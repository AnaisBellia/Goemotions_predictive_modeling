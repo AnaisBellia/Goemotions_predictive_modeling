{
  "cells": [
    {
      "cell_type": "markdown",
      "metadata": {
        "id": "PhjfGGM8fxv3"
      },
      "source": [
        "# ONE HOT ENCODING"
      ]
    },
    {
      "cell_type": "markdown",
      "metadata": {
        "id": "zX4Kg8DUTKWO"
      },
      "source": [
        "# Imports libraries"
      ]
    },
    {
      "cell_type": "code",
      "execution_count": 1,
      "metadata": {
        "id": "c6abaRyXU6UM"
      },
      "outputs": [],
      "source": [
        "vocab_size = 100000  #number of unique words\n",
        "embedding_dim = 16\n",
        "max_length = 80\n",
        "trunc_type='post'\n",
        "padding_type='post'\n",
        "oov_tok = \"<OOV>\"\n",
        "training_size = 200000"
      ]
    },
    {
      "cell_type": "markdown",
      "metadata": {
        "id": "uTZgl4jca-4e"
      },
      "source": [
        "https://www.actuia.com/keras/debuter-avec-le-modele-sequentiel-de-keras/"
      ]
    },
    {
      "cell_type": "markdown",
      "metadata": {
        "id": "7vCAfx8S_DIF"
      },
      "source": [
        "https://inside-machinelearning.com/en/efficient-sentences-embedding-visualization-tsne/#Preparing_the_data_-_GoEmotions"
      ]
    },
    {
      "cell_type": "markdown",
      "metadata": {
        "id": "GoOvPprmc3Yk"
      },
      "source": [
        "https://vitalflux.com/keras-categorical-cross-entropy-loss-function/ sur les loss : categorical_cross, binary_cross"
      ]
    },
    {
      "cell_type": "code",
      "execution_count": 2,
      "metadata": {
        "colab": {
          "base_uri": "https://localhost:8080/"
        },
        "id": "P-AhVYeBWgQ3",
        "outputId": "a10fdca3-87b5-4b40-e390-008c31dc2069"
      },
      "outputs": [
        {
          "output_type": "stream",
          "name": "stdout",
          "text": [
            "2.9.2\n"
          ]
        }
      ],
      "source": [
        "from sklearn.model_selection import train_test_split\n",
        "import tensorflow as tf\n",
        "from tensorflow import keras\n",
        "import tensorflow_datasets as tfds\n",
        "import pandas as pd\n",
        "import numpy as np\n",
        "%matplotlib inline\n",
        "import matplotlib as mpl\n",
        "import matplotlib.cm as cm\n",
        "import matplotlib.pyplot as plt\n",
        "import seaborn as sns\n",
        "from keras.utils import plot_model\n",
        "import os\n",
        "print(tf.__version__)\n",
        "#!pip install -q tensorflow-datasets\n",
        "from sklearn.model_selection import train_test_split\n",
        "from sklearn.datasets import make_moons\n",
        "from sklearn.ensemble import RandomForestClassifier\n",
        "from sklearn.linear_model import LogisticRegression\n",
        "from sklearn.svm import SVC\n",
        "from sklearn.ensemble import ExtraTreesClassifier\n",
        "from sklearn.ensemble import VotingClassifier\n",
        "from sklearn.metrics import accuracy_score\n",
        "from tensorflow.keras.preprocessing.text import Tokenizer\n",
        "from tensorflow.keras.preprocessing.sequence import pad_sequences\n",
        "from keras.layers import Dense, Activation, Embedding, Flatten, GlobalMaxPool1D, Dropout, Conv1D\n",
        "from keras.callbacks import ReduceLROnPlateau, EarlyStopping, ModelCheckpoint"
      ]
    },
    {
      "cell_type": "markdown",
      "metadata": {
        "id": "huWxIZTuqJOH"
      },
      "source": [
        "# Load and transform the data"
      ]
    },
    {
      "cell_type": "markdown",
      "metadata": {
        "id": "LRt2Sp4dvapt"
      },
      "source": [
        "We concatenate the 3 dataframes so we can deal with a single one.\n",
        "We drop all the useless columns in the dataframe and only keep the sentiment and the tweet associated to it.\n",
        "\n",
        "We also reset the index because we concatenated the 3 goemotions so without that we would have 3 rows with the same index"
      ]
    },
    {
      "cell_type": "code",
      "execution_count": 3,
      "metadata": {
        "id": "N4ge7ghis8iB"
      },
      "outputs": [],
      "source": [
        "goemotions_1 = pd.read_csv('goemotions_1.csv') #load the dataset\n",
        "goemotions_2 = pd.read_csv('goemotions_2.csv') #load the dataset\n",
        "goemotions_3 = pd.read_csv('goemotions_3.csv') #load the dataset\n"
      ]
    },
    {
      "cell_type": "code",
      "execution_count": 4,
      "metadata": {
        "id": "NpqtYhjB-bhV",
        "colab": {
          "base_uri": "https://localhost:8080/"
        },
        "outputId": "9dd4dc3c-19e4-49e2-88d5-49b70514febf"
      },
      "outputs": [
        {
          "output_type": "execute_result",
          "data": {
            "text/plain": [
              "(211225, 29)"
            ]
          },
          "metadata": {},
          "execution_count": 4
        }
      ],
      "source": [
        "# concat 3 df\n",
        "frames = [goemotions_1, goemotions_2, goemotions_3]\n",
        "df = pd.concat(frames)\n",
        "# drop others columns\n",
        "df.drop(['id','author','subreddit','link_id','parent_id','created_utc','rater_id', 'example_very_unclear'], inplace=True, axis=1)\n",
        "df.reset_index(drop=True, inplace=True)\n",
        "df.shape\n"
      ]
    },
    {
      "cell_type": "markdown",
      "metadata": {
        "id": "biejfZYdyCbh"
      },
      "source": [
        "# We assign the following variables :\n",
        "- sentences : the column \"text\" of df that refers to all the tweets in the dataframe\n",
        "- labels : sentiment get dummies of the dataframe, all the sentiment columns so from the index 1 (index 0 being the text) to the last column)\n",
        "There are 28 sentiments in the dataframe"
      ]
    },
    {
      "cell_type": "code",
      "execution_count": 5,
      "metadata": {
        "id": "A4TUk8GduXoW",
        "colab": {
          "base_uri": "https://localhost:8080/",
          "height": 488
        },
        "outputId": "4eb25ddd-56e3-4b26-a402-b9cc684a3c6a"
      },
      "outputs": [
        {
          "output_type": "execute_result",
          "data": {
            "text/plain": [
              "        admiration  amusement  anger  annoyance  approval  caring  confusion  \\\n",
              "0                0          0      0          0         0       0          0   \n",
              "1                0          0      0          0         0       0          0   \n",
              "2                0          0      0          0         0       0          0   \n",
              "3                0          0      0          0         0       0          0   \n",
              "4                0          0      0          0         0       0          0   \n",
              "...            ...        ...    ...        ...       ...     ...        ...   \n",
              "211220           0          0      0          0         0       0          0   \n",
              "211221           0          0      0          0         0       1          0   \n",
              "211222           1          0      0          0         0       0          0   \n",
              "211223           0          0      1          0         0       0          0   \n",
              "211224           0          0      0          0         0       0          0   \n",
              "\n",
              "        curiosity  desire  disappointment  ...  love  nervousness  optimism  \\\n",
              "0               0       0               0  ...     0            0         0   \n",
              "1               0       0               0  ...     0            0         0   \n",
              "2               0       0               0  ...     0            0         0   \n",
              "3               0       0               0  ...     1            0         0   \n",
              "4               0       0               0  ...     0            0         0   \n",
              "...           ...     ...             ...  ...   ...          ...       ...   \n",
              "211220          0       0               0  ...     1            0         0   \n",
              "211221          0       0               0  ...     0            0         0   \n",
              "211222          0       0               0  ...     0            0         0   \n",
              "211223          0       0               0  ...     0            0         0   \n",
              "211224          0       0               0  ...     0            0         0   \n",
              "\n",
              "        pride  realization  relief  remorse  sadness  surprise  neutral  \n",
              "0           0            0       0        0        1         0        0  \n",
              "1           0            0       0        0        0         0        0  \n",
              "2           0            0       0        0        0         0        1  \n",
              "3           0            0       0        0        0         0        0  \n",
              "4           0            0       0        0        0         0        1  \n",
              "...       ...          ...     ...      ...      ...       ...      ...  \n",
              "211220      0            0       0        0        0         0        0  \n",
              "211221      0            0       0        0        0         0        0  \n",
              "211222      0            0       0        0        0         0        0  \n",
              "211223      0            0       0        0        0         0        0  \n",
              "211224      0            0       0        0        0         0        0  \n",
              "\n",
              "[211225 rows x 28 columns]"
            ],
            "text/html": [
              "\n",
              "  <div id=\"df-3297d54d-f717-4117-a22f-6d70f20fb78f\">\n",
              "    <div class=\"colab-df-container\">\n",
              "      <div>\n",
              "<style scoped>\n",
              "    .dataframe tbody tr th:only-of-type {\n",
              "        vertical-align: middle;\n",
              "    }\n",
              "\n",
              "    .dataframe tbody tr th {\n",
              "        vertical-align: top;\n",
              "    }\n",
              "\n",
              "    .dataframe thead th {\n",
              "        text-align: right;\n",
              "    }\n",
              "</style>\n",
              "<table border=\"1\" class=\"dataframe\">\n",
              "  <thead>\n",
              "    <tr style=\"text-align: right;\">\n",
              "      <th></th>\n",
              "      <th>admiration</th>\n",
              "      <th>amusement</th>\n",
              "      <th>anger</th>\n",
              "      <th>annoyance</th>\n",
              "      <th>approval</th>\n",
              "      <th>caring</th>\n",
              "      <th>confusion</th>\n",
              "      <th>curiosity</th>\n",
              "      <th>desire</th>\n",
              "      <th>disappointment</th>\n",
              "      <th>...</th>\n",
              "      <th>love</th>\n",
              "      <th>nervousness</th>\n",
              "      <th>optimism</th>\n",
              "      <th>pride</th>\n",
              "      <th>realization</th>\n",
              "      <th>relief</th>\n",
              "      <th>remorse</th>\n",
              "      <th>sadness</th>\n",
              "      <th>surprise</th>\n",
              "      <th>neutral</th>\n",
              "    </tr>\n",
              "  </thead>\n",
              "  <tbody>\n",
              "    <tr>\n",
              "      <th>0</th>\n",
              "      <td>0</td>\n",
              "      <td>0</td>\n",
              "      <td>0</td>\n",
              "      <td>0</td>\n",
              "      <td>0</td>\n",
              "      <td>0</td>\n",
              "      <td>0</td>\n",
              "      <td>0</td>\n",
              "      <td>0</td>\n",
              "      <td>0</td>\n",
              "      <td>...</td>\n",
              "      <td>0</td>\n",
              "      <td>0</td>\n",
              "      <td>0</td>\n",
              "      <td>0</td>\n",
              "      <td>0</td>\n",
              "      <td>0</td>\n",
              "      <td>0</td>\n",
              "      <td>1</td>\n",
              "      <td>0</td>\n",
              "      <td>0</td>\n",
              "    </tr>\n",
              "    <tr>\n",
              "      <th>1</th>\n",
              "      <td>0</td>\n",
              "      <td>0</td>\n",
              "      <td>0</td>\n",
              "      <td>0</td>\n",
              "      <td>0</td>\n",
              "      <td>0</td>\n",
              "      <td>0</td>\n",
              "      <td>0</td>\n",
              "      <td>0</td>\n",
              "      <td>0</td>\n",
              "      <td>...</td>\n",
              "      <td>0</td>\n",
              "      <td>0</td>\n",
              "      <td>0</td>\n",
              "      <td>0</td>\n",
              "      <td>0</td>\n",
              "      <td>0</td>\n",
              "      <td>0</td>\n",
              "      <td>0</td>\n",
              "      <td>0</td>\n",
              "      <td>0</td>\n",
              "    </tr>\n",
              "    <tr>\n",
              "      <th>2</th>\n",
              "      <td>0</td>\n",
              "      <td>0</td>\n",
              "      <td>0</td>\n",
              "      <td>0</td>\n",
              "      <td>0</td>\n",
              "      <td>0</td>\n",
              "      <td>0</td>\n",
              "      <td>0</td>\n",
              "      <td>0</td>\n",
              "      <td>0</td>\n",
              "      <td>...</td>\n",
              "      <td>0</td>\n",
              "      <td>0</td>\n",
              "      <td>0</td>\n",
              "      <td>0</td>\n",
              "      <td>0</td>\n",
              "      <td>0</td>\n",
              "      <td>0</td>\n",
              "      <td>0</td>\n",
              "      <td>0</td>\n",
              "      <td>1</td>\n",
              "    </tr>\n",
              "    <tr>\n",
              "      <th>3</th>\n",
              "      <td>0</td>\n",
              "      <td>0</td>\n",
              "      <td>0</td>\n",
              "      <td>0</td>\n",
              "      <td>0</td>\n",
              "      <td>0</td>\n",
              "      <td>0</td>\n",
              "      <td>0</td>\n",
              "      <td>0</td>\n",
              "      <td>0</td>\n",
              "      <td>...</td>\n",
              "      <td>1</td>\n",
              "      <td>0</td>\n",
              "      <td>0</td>\n",
              "      <td>0</td>\n",
              "      <td>0</td>\n",
              "      <td>0</td>\n",
              "      <td>0</td>\n",
              "      <td>0</td>\n",
              "      <td>0</td>\n",
              "      <td>0</td>\n",
              "    </tr>\n",
              "    <tr>\n",
              "      <th>4</th>\n",
              "      <td>0</td>\n",
              "      <td>0</td>\n",
              "      <td>0</td>\n",
              "      <td>0</td>\n",
              "      <td>0</td>\n",
              "      <td>0</td>\n",
              "      <td>0</td>\n",
              "      <td>0</td>\n",
              "      <td>0</td>\n",
              "      <td>0</td>\n",
              "      <td>...</td>\n",
              "      <td>0</td>\n",
              "      <td>0</td>\n",
              "      <td>0</td>\n",
              "      <td>0</td>\n",
              "      <td>0</td>\n",
              "      <td>0</td>\n",
              "      <td>0</td>\n",
              "      <td>0</td>\n",
              "      <td>0</td>\n",
              "      <td>1</td>\n",
              "    </tr>\n",
              "    <tr>\n",
              "      <th>...</th>\n",
              "      <td>...</td>\n",
              "      <td>...</td>\n",
              "      <td>...</td>\n",
              "      <td>...</td>\n",
              "      <td>...</td>\n",
              "      <td>...</td>\n",
              "      <td>...</td>\n",
              "      <td>...</td>\n",
              "      <td>...</td>\n",
              "      <td>...</td>\n",
              "      <td>...</td>\n",
              "      <td>...</td>\n",
              "      <td>...</td>\n",
              "      <td>...</td>\n",
              "      <td>...</td>\n",
              "      <td>...</td>\n",
              "      <td>...</td>\n",
              "      <td>...</td>\n",
              "      <td>...</td>\n",
              "      <td>...</td>\n",
              "      <td>...</td>\n",
              "    </tr>\n",
              "    <tr>\n",
              "      <th>211220</th>\n",
              "      <td>0</td>\n",
              "      <td>0</td>\n",
              "      <td>0</td>\n",
              "      <td>0</td>\n",
              "      <td>0</td>\n",
              "      <td>0</td>\n",
              "      <td>0</td>\n",
              "      <td>0</td>\n",
              "      <td>0</td>\n",
              "      <td>0</td>\n",
              "      <td>...</td>\n",
              "      <td>1</td>\n",
              "      <td>0</td>\n",
              "      <td>0</td>\n",
              "      <td>0</td>\n",
              "      <td>0</td>\n",
              "      <td>0</td>\n",
              "      <td>0</td>\n",
              "      <td>0</td>\n",
              "      <td>0</td>\n",
              "      <td>0</td>\n",
              "    </tr>\n",
              "    <tr>\n",
              "      <th>211221</th>\n",
              "      <td>0</td>\n",
              "      <td>0</td>\n",
              "      <td>0</td>\n",
              "      <td>0</td>\n",
              "      <td>0</td>\n",
              "      <td>1</td>\n",
              "      <td>0</td>\n",
              "      <td>0</td>\n",
              "      <td>0</td>\n",
              "      <td>0</td>\n",
              "      <td>...</td>\n",
              "      <td>0</td>\n",
              "      <td>0</td>\n",
              "      <td>0</td>\n",
              "      <td>0</td>\n",
              "      <td>0</td>\n",
              "      <td>0</td>\n",
              "      <td>0</td>\n",
              "      <td>0</td>\n",
              "      <td>0</td>\n",
              "      <td>0</td>\n",
              "    </tr>\n",
              "    <tr>\n",
              "      <th>211222</th>\n",
              "      <td>1</td>\n",
              "      <td>0</td>\n",
              "      <td>0</td>\n",
              "      <td>0</td>\n",
              "      <td>0</td>\n",
              "      <td>0</td>\n",
              "      <td>0</td>\n",
              "      <td>0</td>\n",
              "      <td>0</td>\n",
              "      <td>0</td>\n",
              "      <td>...</td>\n",
              "      <td>0</td>\n",
              "      <td>0</td>\n",
              "      <td>0</td>\n",
              "      <td>0</td>\n",
              "      <td>0</td>\n",
              "      <td>0</td>\n",
              "      <td>0</td>\n",
              "      <td>0</td>\n",
              "      <td>0</td>\n",
              "      <td>0</td>\n",
              "    </tr>\n",
              "    <tr>\n",
              "      <th>211223</th>\n",
              "      <td>0</td>\n",
              "      <td>0</td>\n",
              "      <td>1</td>\n",
              "      <td>0</td>\n",
              "      <td>0</td>\n",
              "      <td>0</td>\n",
              "      <td>0</td>\n",
              "      <td>0</td>\n",
              "      <td>0</td>\n",
              "      <td>0</td>\n",
              "      <td>...</td>\n",
              "      <td>0</td>\n",
              "      <td>0</td>\n",
              "      <td>0</td>\n",
              "      <td>0</td>\n",
              "      <td>0</td>\n",
              "      <td>0</td>\n",
              "      <td>0</td>\n",
              "      <td>0</td>\n",
              "      <td>0</td>\n",
              "      <td>0</td>\n",
              "    </tr>\n",
              "    <tr>\n",
              "      <th>211224</th>\n",
              "      <td>0</td>\n",
              "      <td>0</td>\n",
              "      <td>0</td>\n",
              "      <td>0</td>\n",
              "      <td>0</td>\n",
              "      <td>0</td>\n",
              "      <td>0</td>\n",
              "      <td>0</td>\n",
              "      <td>0</td>\n",
              "      <td>0</td>\n",
              "      <td>...</td>\n",
              "      <td>0</td>\n",
              "      <td>0</td>\n",
              "      <td>0</td>\n",
              "      <td>0</td>\n",
              "      <td>0</td>\n",
              "      <td>0</td>\n",
              "      <td>0</td>\n",
              "      <td>0</td>\n",
              "      <td>0</td>\n",
              "      <td>0</td>\n",
              "    </tr>\n",
              "  </tbody>\n",
              "</table>\n",
              "<p>211225 rows × 28 columns</p>\n",
              "</div>\n",
              "      <button class=\"colab-df-convert\" onclick=\"convertToInteractive('df-3297d54d-f717-4117-a22f-6d70f20fb78f')\"\n",
              "              title=\"Convert this dataframe to an interactive table.\"\n",
              "              style=\"display:none;\">\n",
              "        \n",
              "  <svg xmlns=\"http://www.w3.org/2000/svg\" height=\"24px\"viewBox=\"0 0 24 24\"\n",
              "       width=\"24px\">\n",
              "    <path d=\"M0 0h24v24H0V0z\" fill=\"none\"/>\n",
              "    <path d=\"M18.56 5.44l.94 2.06.94-2.06 2.06-.94-2.06-.94-.94-2.06-.94 2.06-2.06.94zm-11 1L8.5 8.5l.94-2.06 2.06-.94-2.06-.94L8.5 2.5l-.94 2.06-2.06.94zm10 10l.94 2.06.94-2.06 2.06-.94-2.06-.94-.94-2.06-.94 2.06-2.06.94z\"/><path d=\"M17.41 7.96l-1.37-1.37c-.4-.4-.92-.59-1.43-.59-.52 0-1.04.2-1.43.59L10.3 9.45l-7.72 7.72c-.78.78-.78 2.05 0 2.83L4 21.41c.39.39.9.59 1.41.59.51 0 1.02-.2 1.41-.59l7.78-7.78 2.81-2.81c.8-.78.8-2.07 0-2.86zM5.41 20L4 18.59l7.72-7.72 1.47 1.35L5.41 20z\"/>\n",
              "  </svg>\n",
              "      </button>\n",
              "      \n",
              "  <style>\n",
              "    .colab-df-container {\n",
              "      display:flex;\n",
              "      flex-wrap:wrap;\n",
              "      gap: 12px;\n",
              "    }\n",
              "\n",
              "    .colab-df-convert {\n",
              "      background-color: #E8F0FE;\n",
              "      border: none;\n",
              "      border-radius: 50%;\n",
              "      cursor: pointer;\n",
              "      display: none;\n",
              "      fill: #1967D2;\n",
              "      height: 32px;\n",
              "      padding: 0 0 0 0;\n",
              "      width: 32px;\n",
              "    }\n",
              "\n",
              "    .colab-df-convert:hover {\n",
              "      background-color: #E2EBFA;\n",
              "      box-shadow: 0px 1px 2px rgba(60, 64, 67, 0.3), 0px 1px 3px 1px rgba(60, 64, 67, 0.15);\n",
              "      fill: #174EA6;\n",
              "    }\n",
              "\n",
              "    [theme=dark] .colab-df-convert {\n",
              "      background-color: #3B4455;\n",
              "      fill: #D2E3FC;\n",
              "    }\n",
              "\n",
              "    [theme=dark] .colab-df-convert:hover {\n",
              "      background-color: #434B5C;\n",
              "      box-shadow: 0px 1px 3px 1px rgba(0, 0, 0, 0.15);\n",
              "      filter: drop-shadow(0px 1px 2px rgba(0, 0, 0, 0.3));\n",
              "      fill: #FFFFFF;\n",
              "    }\n",
              "  </style>\n",
              "\n",
              "      <script>\n",
              "        const buttonEl =\n",
              "          document.querySelector('#df-3297d54d-f717-4117-a22f-6d70f20fb78f button.colab-df-convert');\n",
              "        buttonEl.style.display =\n",
              "          google.colab.kernel.accessAllowed ? 'block' : 'none';\n",
              "\n",
              "        async function convertToInteractive(key) {\n",
              "          const element = document.querySelector('#df-3297d54d-f717-4117-a22f-6d70f20fb78f');\n",
              "          const dataTable =\n",
              "            await google.colab.kernel.invokeFunction('convertToInteractive',\n",
              "                                                     [key], {});\n",
              "          if (!dataTable) return;\n",
              "\n",
              "          const docLinkHtml = 'Like what you see? Visit the ' +\n",
              "            '<a target=\"_blank\" href=https://colab.research.google.com/notebooks/data_table.ipynb>data table notebook</a>'\n",
              "            + ' to learn more about interactive tables.';\n",
              "          element.innerHTML = '';\n",
              "          dataTable['output_type'] = 'display_data';\n",
              "          await google.colab.output.renderOutput(dataTable, element);\n",
              "          const docLink = document.createElement('div');\n",
              "          docLink.innerHTML = docLinkHtml;\n",
              "          element.appendChild(docLink);\n",
              "        }\n",
              "      </script>\n",
              "    </div>\n",
              "  </div>\n",
              "  "
            ]
          },
          "metadata": {},
          "execution_count": 5
        }
      ],
      "source": [
        "sentences = df['text']\n",
        "# df of all the 28 emotions\n",
        "labels = df.iloc[:, 1:]\n",
        "#labels.shape\n",
        "labels"
      ]
    },
    {
      "cell_type": "markdown",
      "metadata": {
        "id": "r4H7DbCtvm5-"
      },
      "source": [
        "# Create train and test"
      ]
    },
    {
      "cell_type": "markdown",
      "metadata": {
        "id": "S9Bt9QuZ24X3"
      },
      "source": [
        "We associate to training_sentences the tweets for the training size so from 0 to 200 000\n",
        "\n",
        "The testing_sentences is all the tweet from 200 000 to the end of the dataframe\n",
        "\n",
        "The training_labels takes all the labels associated to the tweets for the training size (0 to 200 0000)\n",
        "The testing_labels takes the ramaining labels"
      ]
    },
    {
      "cell_type": "code",
      "execution_count": 6,
      "metadata": {
        "id": "L2_l5XswuBK0"
      },
      "outputs": [],
      "source": [
        "# training_sentences select the text, testing_labels the labels associated\n",
        "training_sentences = sentences[0:training_size]\n",
        "testing_sentences = sentences[training_size:]\n",
        "training_labels = labels[0:training_size]\n",
        "testing_labels = labels[training_size:]\n",
        "\n",
        "# training_sentences[0] is the first tweet in training_sentences\n"
      ]
    },
    {
      "cell_type": "markdown",
      "metadata": {
        "id": "KH_7RYS97Wlw"
      },
      "source": [
        "We tokenize training_sentences and testing_sentences"
      ]
    },
    {
      "cell_type": "code",
      "execution_count": 7,
      "metadata": {
        "id": "qPSYAl-qxZyH"
      },
      "outputs": [],
      "source": [
        "tokenizer = Tokenizer(num_words=vocab_size, oov_token=oov_tok)\n",
        "tokenizer.fit_on_texts(training_sentences)\n",
        "\n",
        "word_index = tokenizer.word_index\n",
        "\n",
        "# make all the sentences of equal size, add zeros at the end of the sentencses to fill max tweet lenght\n",
        "\n",
        "training_sequences = tokenizer.texts_to_sequences(training_sentences)\n",
        "training_padded = pad_sequences(training_sequences, maxlen=max_length, padding=padding_type, truncating=trunc_type)\n",
        "\n",
        "testing_sequences = tokenizer.texts_to_sequences(testing_sentences)\n",
        "testing_padded = pad_sequences(testing_sequences, maxlen=max_length, padding=padding_type, truncating=trunc_type)"
      ]
    },
    {
      "cell_type": "code",
      "execution_count": 8,
      "metadata": {
        "id": "8eC7gjvQJ-Us"
      },
      "outputs": [],
      "source": [
        "# Need this block to get it to work with TensorFlow 2.x\n",
        "training_padded = np.array(training_padded)\n",
        "training_labels = np.array(training_labels)\n",
        "testing_padded = np.array(testing_padded)\n",
        "testing_labels = np.array(testing_labels)"
      ]
    },
    {
      "cell_type": "markdown",
      "metadata": {
        "id": "WTlWzfvuu9hc"
      },
      "source": [
        "# -------------------------------------------------- ACURACY METRIC -----------------------------------------------------"
      ]
    },
    {
      "cell_type": "markdown",
      "metadata": {
        "id": "d4Zm2b2Omsnd"
      },
      "source": [
        "# MODEL 1 loss = binary cross entropy"
      ]
    },
    {
      "cell_type": "code",
      "source": [],
      "metadata": {
        "id": "TjtlcdTFXBcZ"
      },
      "execution_count": null,
      "outputs": []
    },
    {
      "cell_type": "markdown",
      "metadata": {
        "id": "AVrVXLMlEsmr"
      },
      "source": [
        "# Hyperparameters\n",
        "The whole dataset is 211225 so we split inot a training size of 200 000 and the rest is the test set.\n",
        "\n",
        "We set the maximum vocabulary size to 10 000 and the maximum lenght of a tweet to 150\n",
        "\n",
        "703 is the longest tweet size"
      ]
    },
    {
      "cell_type": "code",
      "execution_count": 18,
      "metadata": {
        "colab": {
          "base_uri": "https://localhost:8080/"
        },
        "id": "DA-_v2mIKf3T",
        "outputId": "48cc1942-d4fb-4bd6-83fc-f9390ed9f5a5"
      },
      "outputs": [
        {
          "output_type": "stream",
          "name": "stdout",
          "text": [
            "Model: \"sequential_4\"\n",
            "_________________________________________________________________\n",
            " Layer (type)                Output Shape              Param #   \n",
            "=================================================================\n",
            " embedding_4 (Embedding)     (None, 80, 16)            1600000   \n",
            "                                                                 \n",
            " global_average_pooling1d_4   (None, 16)               0         \n",
            " (GlobalAveragePooling1D)                                        \n",
            "                                                                 \n",
            " dense_8 (Dense)             (None, 128)               2176      \n",
            "                                                                 \n",
            " dense_9 (Dense)             (None, 28)                3612      \n",
            "                                                                 \n",
            "=================================================================\n",
            "Total params: 1,605,788\n",
            "Trainable params: 1,605,788\n",
            "Non-trainable params: 0\n",
            "_________________________________________________________________\n"
          ]
        }
      ],
      "source": [
        "model = tf.keras.Sequential([\n",
        "    tf.keras.layers.Embedding(vocab_size, embedding_dim, input_length=max_length),\n",
        "    tf.keras.layers.GlobalAveragePooling1D(),\n",
        "    tf.keras.layers.Dense(128, activation='relu'), \n",
        "    tf.keras.layers.Dense(28 , activation='sigmoid')\n",
        "])\n",
        "model.compile(loss='binary_crossentropy',optimizer='adam',metrics=['accuracy'])\n",
        "model.summary()"
      ]
    },
    {
      "cell_type": "code",
      "execution_count": 19,
      "metadata": {
        "colab": {
          "base_uri": "https://localhost:8080/"
        },
        "id": "A86sInV7x5o5",
        "outputId": "59b3d58d-ebe7-4b88-a225-0d3f8a57824c"
      },
      "outputs": [
        {
          "output_type": "stream",
          "name": "stdout",
          "text": [
            "Epoch 1/20\n",
            "6250/6250 - 17s - loss: 0.1598 - accuracy: 0.2652 - val_loss: 0.1478 - val_accuracy: 0.2971 - 17s/epoch - 3ms/step\n",
            "Epoch 2/20\n",
            "6250/6250 - 16s - loss: 0.1425 - accuracy: 0.3158 - val_loss: 0.1369 - val_accuracy: 0.3395 - 16s/epoch - 3ms/step\n",
            "Epoch 3/20\n",
            "6250/6250 - 16s - loss: 0.1311 - accuracy: 0.3650 - val_loss: 0.1299 - val_accuracy: 0.3668 - 16s/epoch - 3ms/step\n",
            "Epoch 4/20\n",
            "6250/6250 - 16s - loss: 0.1239 - accuracy: 0.3881 - val_loss: 0.1258 - val_accuracy: 0.3840 - 16s/epoch - 3ms/step\n",
            "Epoch 5/20\n",
            "6250/6250 - 17s - loss: 0.1191 - accuracy: 0.4063 - val_loss: 0.1245 - val_accuracy: 0.3903 - 17s/epoch - 3ms/step\n",
            "Epoch 6/20\n",
            "6250/6250 - 16s - loss: 0.1157 - accuracy: 0.4182 - val_loss: 0.1236 - val_accuracy: 0.3955 - 16s/epoch - 3ms/step\n",
            "Epoch 7/20\n",
            "6250/6250 - 16s - loss: 0.1132 - accuracy: 0.4281 - val_loss: 0.1228 - val_accuracy: 0.3919 - 16s/epoch - 3ms/step\n",
            "Epoch 8/20\n",
            "6250/6250 - 16s - loss: 0.1111 - accuracy: 0.4355 - val_loss: 0.1232 - val_accuracy: 0.3943 - 16s/epoch - 3ms/step\n",
            "Epoch 9/20\n",
            "6250/6250 - 17s - loss: 0.1093 - accuracy: 0.4425 - val_loss: 0.1228 - val_accuracy: 0.3953 - 17s/epoch - 3ms/step\n",
            "Epoch 10/20\n",
            "6250/6250 - 16s - loss: 0.1076 - accuracy: 0.4487 - val_loss: 0.1229 - val_accuracy: 0.3926 - 16s/epoch - 3ms/step\n",
            "Epoch 11/20\n",
            "6250/6250 - 16s - loss: 0.1060 - accuracy: 0.4537 - val_loss: 0.1236 - val_accuracy: 0.3939 - 16s/epoch - 3ms/step\n",
            "Epoch 12/20\n",
            "6250/6250 - 16s - loss: 0.1047 - accuracy: 0.4576 - val_loss: 0.1241 - val_accuracy: 0.3962 - 16s/epoch - 3ms/step\n",
            "Epoch 13/20\n",
            "6250/6250 - 16s - loss: 0.1034 - accuracy: 0.4612 - val_loss: 0.1244 - val_accuracy: 0.3887 - 16s/epoch - 3ms/step\n",
            "Epoch 14/20\n",
            "6250/6250 - 16s - loss: 0.1022 - accuracy: 0.4652 - val_loss: 0.1254 - val_accuracy: 0.3861 - 16s/epoch - 3ms/step\n",
            "Epoch 15/20\n",
            "6250/6250 - 16s - loss: 0.1012 - accuracy: 0.4678 - val_loss: 0.1250 - val_accuracy: 0.3968 - 16s/epoch - 3ms/step\n",
            "Epoch 16/20\n",
            "6250/6250 - 16s - loss: 0.1002 - accuracy: 0.4702 - val_loss: 0.1255 - val_accuracy: 0.3935 - 16s/epoch - 3ms/step\n",
            "Epoch 17/20\n",
            "6250/6250 - 17s - loss: 0.0993 - accuracy: 0.4732 - val_loss: 0.1265 - val_accuracy: 0.3960 - 17s/epoch - 3ms/step\n",
            "Epoch 18/20\n",
            "6250/6250 - 20s - loss: 0.0985 - accuracy: 0.4744 - val_loss: 0.1273 - val_accuracy: 0.3903 - 20s/epoch - 3ms/step\n",
            "Epoch 19/20\n",
            "6250/6250 - 18s - loss: 0.0977 - accuracy: 0.4772 - val_loss: 0.1282 - val_accuracy: 0.3751 - 18s/epoch - 3ms/step\n",
            "Epoch 20/20\n",
            "6250/6250 - 18s - loss: 0.0970 - accuracy: 0.4796 - val_loss: 0.1291 - val_accuracy: 0.3906 - 18s/epoch - 3ms/step\n"
          ]
        }
      ],
      "source": [
        "num_epochs = 20\n",
        "history = model.fit(training_padded, training_labels, epochs=num_epochs, validation_data=(testing_padded, testing_labels), verbose=2)"
      ]
    },
    {
      "cell_type": "code",
      "execution_count": 20,
      "metadata": {
        "id": "XygPyVigx52O",
        "colab": {
          "base_uri": "https://localhost:8080/",
          "height": 541
        },
        "outputId": "32c23bcd-f671-4717-a89e-4e229dab3686"
      },
      "outputs": [
        {
          "output_type": "display_data",
          "data": {
            "text/plain": [
              "<Figure size 432x288 with 1 Axes>"
            ],
            "image/png": "[encoded data removed]"
          },
          "metadata": {
            "needs_background": "light"
          }
        },
        {
          "output_type": "display_data",
          "data": {
            "text/plain": [
              "<Figure size 432x288 with 1 Axes>"
            ],
            "image/png": "[encoded data removed]"
          },
          "metadata": {
            "needs_background": "light"
          }
        }
      ],
      "source": [
        "import matplotlib.pyplot as plt\n",
        "\n",
        "def plot_graphs(history, string):\n",
        "  plt.plot(history.history[string])\n",
        "  plt.plot(history.history['val_'+string])\n",
        "  plt.xlabel(\"Epochs\")\n",
        "  plt.ylabel(string)\n",
        "  plt.legend([string, 'val_'+string])\n",
        "  plt.show()\n",
        "  \n",
        "plot_graphs(history, \"accuracy\")\n",
        "plot_graphs(history, \"loss\")"
      ]
    },
    {
      "cell_type": "markdown",
      "metadata": {
        "id": "Rep4TV6CCtfj"
      },
      "source": [
        "Conclusion :\n",
        "\n",
        "the model seems to behave well after each iteration of optimization but the loss stagnates and so the accuracy doesn't go beyond 0.4. The model tends to overfit a little bit at the end.\n",
        "\n",
        "I try another way to predict the sentiment by having a label encoding instead of a one hot encoding process"
      ]
    },
    {
      "cell_type": "markdown",
      "metadata": {
        "id": "Jo-8kFTME0x6"
      },
      "source": [
        "# MODEL 1 WITH DIFFERENT PARAMETERS vocab_size"
      ]
    },
    {
      "cell_type": "markdown",
      "metadata": {
        "id": "Z2Omjm9nrrj4"
      },
      "source": [
        "# ----------------------------------------------- AUC METRIC -----------------------------------------------------"
      ]
    },
    {
      "cell_type": "markdown",
      "metadata": {
        "id": "bZYu3863uD4h"
      },
      "source": [
        "# MODEL 1"
      ]
    },
    {
      "cell_type": "code",
      "execution_count": 16,
      "metadata": {
        "colab": {
          "base_uri": "https://localhost:8080/"
        },
        "id": "-wB1izFJuF1G",
        "outputId": "2083ccfe-f824-40e7-ea83-ba25bd46279c"
      },
      "outputs": [
        {
          "output_type": "stream",
          "name": "stdout",
          "text": [
            "Model: \"sequential_3\"\n",
            "_________________________________________________________________\n",
            " Layer (type)                Output Shape              Param #   \n",
            "=================================================================\n",
            " embedding_3 (Embedding)     (None, 80, 16)            1600000   \n",
            "                                                                 \n",
            " global_average_pooling1d_3   (None, 16)               0         \n",
            " (GlobalAveragePooling1D)                                        \n",
            "                                                                 \n",
            " dense_6 (Dense)             (None, 128)               2176      \n",
            "                                                                 \n",
            " dense_7 (Dense)             (None, 28)                3612      \n",
            "                                                                 \n",
            "=================================================================\n",
            "Total params: 1,605,788\n",
            "Trainable params: 1,605,788\n",
            "Non-trainable params: 0\n",
            "_________________________________________________________________\n",
            "Epoch 1/20\n",
            "6250/6250 - 21s - loss: 0.1610 - auc_2: 0.7355 - val_loss: 0.1503 - val_auc_2: 0.7714 - 21s/epoch - 3ms/step\n",
            "Epoch 2/20\n",
            "6250/6250 - 21s - loss: 0.1437 - auc_2: 0.8051 - val_loss: 0.1380 - val_auc_2: 0.8267 - 21s/epoch - 3ms/step\n",
            "Epoch 3/20\n",
            "6250/6250 - 20s - loss: 0.1320 - auc_2: 0.8488 - val_loss: 0.1309 - val_auc_2: 0.8526 - 20s/epoch - 3ms/step\n",
            "Epoch 4/20\n",
            "6250/6250 - 20s - loss: 0.1252 - auc_2: 0.8724 - val_loss: 0.1269 - val_auc_2: 0.8676 - 20s/epoch - 3ms/step\n",
            "Epoch 5/20\n",
            "6250/6250 - 20s - loss: 0.1201 - auc_2: 0.8882 - val_loss: 0.1243 - val_auc_2: 0.8760 - 20s/epoch - 3ms/step\n",
            "Epoch 6/20\n",
            "6250/6250 - 20s - loss: 0.1162 - auc_2: 0.8984 - val_loss: 0.1232 - val_auc_2: 0.8789 - 20s/epoch - 3ms/step\n",
            "Epoch 7/20\n",
            "6250/6250 - 20s - loss: 0.1134 - auc_2: 0.9051 - val_loss: 0.1226 - val_auc_2: 0.8808 - 20s/epoch - 3ms/step\n",
            "Epoch 8/20\n",
            "6250/6250 - 20s - loss: 0.1111 - auc_2: 0.9105 - val_loss: 0.1228 - val_auc_2: 0.8803 - 20s/epoch - 3ms/step\n",
            "Epoch 9/20\n",
            "6250/6250 - 20s - loss: 0.1090 - auc_2: 0.9151 - val_loss: 0.1231 - val_auc_2: 0.8812 - 20s/epoch - 3ms/step\n",
            "Epoch 10/20\n",
            "6250/6250 - 20s - loss: 0.1073 - auc_2: 0.9191 - val_loss: 0.1232 - val_auc_2: 0.8806 - 20s/epoch - 3ms/step\n",
            "Epoch 11/20\n",
            "6250/6250 - 20s - loss: 0.1057 - auc_2: 0.9225 - val_loss: 0.1238 - val_auc_2: 0.8794 - 20s/epoch - 3ms/step\n",
            "Epoch 12/20\n",
            "6250/6250 - 20s - loss: 0.1043 - auc_2: 0.9253 - val_loss: 0.1243 - val_auc_2: 0.8797 - 20s/epoch - 3ms/step\n",
            "Epoch 13/20\n",
            "6250/6250 - 20s - loss: 0.1030 - auc_2: 0.9280 - val_loss: 0.1249 - val_auc_2: 0.8778 - 20s/epoch - 3ms/step\n",
            "Epoch 14/20\n",
            "6250/6250 - 20s - loss: 0.1019 - auc_2: 0.9304 - val_loss: 0.1255 - val_auc_2: 0.8773 - 20s/epoch - 3ms/step\n",
            "Epoch 15/20\n",
            "6250/6250 - 20s - loss: 0.1009 - auc_2: 0.9323 - val_loss: 0.1259 - val_auc_2: 0.8767 - 20s/epoch - 3ms/step\n",
            "Epoch 16/20\n",
            "6250/6250 - 20s - loss: 0.1000 - auc_2: 0.9342 - val_loss: 0.1267 - val_auc_2: 0.8757 - 20s/epoch - 3ms/step\n",
            "Epoch 17/20\n",
            "6250/6250 - 21s - loss: 0.0992 - auc_2: 0.9358 - val_loss: 0.1273 - val_auc_2: 0.8748 - 21s/epoch - 3ms/step\n",
            "Epoch 18/20\n",
            "6250/6250 - 21s - loss: 0.0984 - auc_2: 0.9374 - val_loss: 0.1289 - val_auc_2: 0.8733 - 21s/epoch - 3ms/step\n",
            "Epoch 19/20\n",
            "6250/6250 - 20s - loss: 0.0977 - auc_2: 0.9387 - val_loss: 0.1291 - val_auc_2: 0.8709 - 20s/epoch - 3ms/step\n",
            "Epoch 20/20\n",
            "6250/6250 - 20s - loss: 0.0971 - auc_2: 0.9400 - val_loss: 0.1302 - val_auc_2: 0.8704 - 20s/epoch - 3ms/step\n"
          ]
        }
      ],
      "source": [
        "model = tf.keras.Sequential([\n",
        "    tf.keras.layers.Embedding(vocab_size, embedding_dim, input_length=max_length),\n",
        "    tf.keras.layers.GlobalAveragePooling1D(),\n",
        "    tf.keras.layers.Dense(128, activation='relu'), \n",
        "    tf.keras.layers.Dense(28 , activation='sigmoid')\n",
        "])\n",
        "model.compile(loss='binary_crossentropy',optimizer='adam', metrics=[tf.keras.metrics.AUC()])\n",
        "model.summary()\n",
        "\n",
        "num_epochs = 20\n",
        "history = model.fit(training_padded, training_labels, epochs=num_epochs, validation_data=(testing_padded, testing_labels), verbose=2)"
      ]
    },
    {
      "cell_type": "code",
      "execution_count": 17,
      "metadata": {
        "colab": {
          "base_uri": "https://localhost:8080/",
          "height": 545
        },
        "id": "RsWc64pVvTAk",
        "outputId": "b9679776-e081-49e3-926c-db8d881e4863"
      },
      "outputs": [
        {
          "output_type": "display_data",
          "data": {
            "text/plain": [
              "<Figure size 432x288 with 1 Axes>"
            ],
            "image/png": "[encoded data removed]"
          },
          "metadata": {
            "needs_background": "light"
          }
        },
        {
          "output_type": "display_data",
          "data": {
            "text/plain": [
              "<Figure size 432x288 with 1 Axes>"
            ],
            "image/png": "[encoded data removed]"
          },
          "metadata": {
            "needs_background": "light"
          }
        }
      ],
      "source": [
        "import matplotlib.pyplot as plt\n",
        "\n",
        "def plot_graphs(history, string):\n",
        "  plt.plot(history.history[string])\n",
        "  plt.plot(history.history['val_'+string])\n",
        "  plt.xlabel(\"Epochs\")\n",
        "  plt.ylabel(string)\n",
        "  plt.legend([string, 'val_'+string])\n",
        "  plt.show()\n",
        "  \n",
        "plot_graphs(history, \"auc_2\")\n",
        "plot_graphs(history, \"loss\")"
      ]
    },
    {
      "cell_type": "markdown",
      "source": [
        "The loss decreases and the accuracy increases so the training process is efficient. There is no overfitting"
      ],
      "metadata": {
        "id": "izkrvlzv0OAN"
      }
    },
    {
      "cell_type": "markdown",
      "source": [
        "# MODEL 1 with dropout"
      ],
      "metadata": {
        "id": "DTG-6l10wmxm"
      }
    },
    {
      "cell_type": "code",
      "source": [
        "model = tf.keras.Sequential([\n",
        "    tf.keras.layers.Embedding(vocab_size, embedding_dim, input_length=max_length),\n",
        "    tf.keras.layers.Dropout(0.5),\n",
        "    tf.keras.layers.GlobalAveragePooling1D(),\n",
        "    tf.keras.layers.Dense(128, activation='relu'), \n",
        "    tf.keras.layers.Dense(28 , activation='sigmoid')\n",
        "])\n",
        "model.compile(loss='binary_crossentropy',optimizer='adam', metrics=[tf.keras.metrics.AUC()])\n",
        "model.summary()\n",
        "\n",
        "num_epochs = 20\n",
        "history = model.fit(training_padded, training_labels, epochs=num_epochs, validation_data=(testing_padded, testing_labels), verbose=2)"
      ],
      "metadata": {
        "colab": {
          "base_uri": "https://localhost:8080/"
        },
        "id": "Ff21t_5_wpEX",
        "outputId": "3083bc35-a66d-48c8-c952-69fe09200f52"
      },
      "execution_count": 14,
      "outputs": [
        {
          "output_type": "stream",
          "name": "stdout",
          "text": [
            "Model: \"sequential_2\"\n",
            "_________________________________________________________________\n",
            " Layer (type)                Output Shape              Param #   \n",
            "=================================================================\n",
            " embedding_2 (Embedding)     (None, 80, 16)            1600000   \n",
            "                                                                 \n",
            " dropout_1 (Dropout)         (None, 80, 16)            0         \n",
            "                                                                 \n",
            " global_average_pooling1d_2   (None, 16)               0         \n",
            " (GlobalAveragePooling1D)                                        \n",
            "                                                                 \n",
            " dense_4 (Dense)             (None, 128)               2176      \n",
            "                                                                 \n",
            " dense_5 (Dense)             (None, 28)                3612      \n",
            "                                                                 \n",
            "=================================================================\n",
            "Total params: 1,605,788\n",
            "Trainable params: 1,605,788\n",
            "Non-trainable params: 0\n",
            "_________________________________________________________________\n",
            "Epoch 1/20\n",
            "6250/6250 - 23s - loss: 0.1604 - auc_1: 0.7370 - val_loss: 0.1491 - val_auc_1: 0.7774 - 23s/epoch - 4ms/step\n",
            "Epoch 2/20\n",
            "6250/6250 - 21s - loss: 0.1458 - auc_1: 0.7954 - val_loss: 0.1401 - val_auc_1: 0.8169 - 21s/epoch - 3ms/step\n",
            "Epoch 3/20\n",
            "6250/6250 - 21s - loss: 0.1381 - auc_1: 0.8273 - val_loss: 0.1335 - val_auc_1: 0.8427 - 21s/epoch - 3ms/step\n",
            "Epoch 4/20\n",
            "6250/6250 - 20s - loss: 0.1326 - auc_1: 0.8478 - val_loss: 0.1294 - val_auc_1: 0.8582 - 20s/epoch - 3ms/step\n",
            "Epoch 5/20\n",
            "6250/6250 - 20s - loss: 0.1293 - auc_1: 0.8595 - val_loss: 0.1274 - val_auc_1: 0.8661 - 20s/epoch - 3ms/step\n",
            "Epoch 6/20\n",
            "6250/6250 - 21s - loss: 0.1273 - auc_1: 0.8663 - val_loss: 0.1260 - val_auc_1: 0.8702 - 21s/epoch - 3ms/step\n",
            "Epoch 7/20\n",
            "6250/6250 - 22s - loss: 0.1258 - auc_1: 0.8714 - val_loss: 0.1253 - val_auc_1: 0.8734 - 22s/epoch - 3ms/step\n",
            "Epoch 8/20\n",
            "6250/6250 - 21s - loss: 0.1245 - auc_1: 0.8752 - val_loss: 0.1247 - val_auc_1: 0.8745 - 21s/epoch - 3ms/step\n",
            "Epoch 9/20\n",
            "6250/6250 - 20s - loss: 0.1236 - auc_1: 0.8777 - val_loss: 0.1248 - val_auc_1: 0.8731 - 20s/epoch - 3ms/step\n",
            "Epoch 10/20\n",
            "6250/6250 - 20s - loss: 0.1226 - auc_1: 0.8807 - val_loss: 0.1237 - val_auc_1: 0.8772 - 20s/epoch - 3ms/step\n",
            "Epoch 11/20\n",
            "6250/6250 - 21s - loss: 0.1218 - auc_1: 0.8828 - val_loss: 0.1232 - val_auc_1: 0.8791 - 21s/epoch - 3ms/step\n",
            "Epoch 12/20\n",
            "6250/6250 - 20s - loss: 0.1211 - auc_1: 0.8850 - val_loss: 0.1228 - val_auc_1: 0.8796 - 20s/epoch - 3ms/step\n",
            "Epoch 13/20\n",
            "6250/6250 - 20s - loss: 0.1205 - auc_1: 0.8865 - val_loss: 0.1226 - val_auc_1: 0.8806 - 20s/epoch - 3ms/step\n",
            "Epoch 14/20\n",
            "6250/6250 - 20s - loss: 0.1199 - auc_1: 0.8879 - val_loss: 0.1226 - val_auc_1: 0.8801 - 20s/epoch - 3ms/step\n",
            "Epoch 15/20\n",
            "6250/6250 - 21s - loss: 0.1194 - auc_1: 0.8894 - val_loss: 0.1222 - val_auc_1: 0.8820 - 21s/epoch - 3ms/step\n",
            "Epoch 16/20\n",
            "6250/6250 - 21s - loss: 0.1190 - auc_1: 0.8903 - val_loss: 0.1224 - val_auc_1: 0.8809 - 21s/epoch - 3ms/step\n",
            "Epoch 17/20\n",
            "6250/6250 - 20s - loss: 0.1184 - auc_1: 0.8919 - val_loss: 0.1225 - val_auc_1: 0.8801 - 20s/epoch - 3ms/step\n",
            "Epoch 18/20\n",
            "6250/6250 - 21s - loss: 0.1181 - auc_1: 0.8928 - val_loss: 0.1227 - val_auc_1: 0.8789 - 21s/epoch - 3ms/step\n",
            "Epoch 19/20\n",
            "6250/6250 - 21s - loss: 0.1177 - auc_1: 0.8935 - val_loss: 0.1220 - val_auc_1: 0.8827 - 21s/epoch - 3ms/step\n",
            "Epoch 20/20\n",
            "6250/6250 - 21s - loss: 0.1174 - auc_1: 0.8944 - val_loss: 0.1223 - val_auc_1: 0.8813 - 21s/epoch - 3ms/step\n"
          ]
        }
      ]
    },
    {
      "cell_type": "code",
      "source": [
        "import matplotlib.pyplot as plt\n",
        "\n",
        "def plot_graphs(history, string):\n",
        "  plt.plot(history.history[string])\n",
        "  plt.plot(history.history['val_'+string])\n",
        "  plt.xlabel(\"Epochs\")\n",
        "  plt.ylabel(string)\n",
        "  plt.legend([string, 'val_'+string])\n",
        "  plt.show()\n",
        "  \n",
        "plot_graphs(history, \"auc_1\")\n",
        "plot_graphs(history, \"loss\")"
      ],
      "metadata": {
        "colab": {
          "base_uri": "https://localhost:8080/",
          "height": 542
        },
        "id": "MBLVlST4wsVK",
        "outputId": "8e64fc9c-9609-482f-c218-cd330c275150"
      },
      "execution_count": 15,
      "outputs": [
        {
          "output_type": "display_data",
          "data": {
            "text/plain": [
              "<Figure size 432x288 with 1 Axes>"
            ],
            "image/png": "[encoded data removed]"
          },
          "metadata": {
            "needs_background": "light"
          }
        },
        {
          "output_type": "display_data",
          "data": {
            "text/plain": [
              "<Figure size 432x288 with 1 Axes>"
            ],
            "image/png": "[encoded data removed]"
          },
          "metadata": {
            "needs_background": "light"
          }
        }
      ]
    },
    {
      "cell_type": "markdown",
      "source": [
        "# Other model evaluated less conclusive"
      ],
      "metadata": {
        "id": "XS92BMW-XISz"
      }
    },
    {
      "cell_type": "markdown",
      "metadata": {
        "id": "zqQNdRBseNa-"
      },
      "source": [
        "# MODEL 2"
      ]
    },
    {
      "cell_type": "code",
      "execution_count": null,
      "metadata": {
        "id": "9lhZduTlgnZ5"
      },
      "outputs": [],
      "source": [
        "from keras.layers import LSTM\n",
        "from keras.layers import Bidirectional\n",
        "\n",
        "model = tf.keras.Sequential([\n",
        "    tf.keras.layers.Embedding(vocab_size, embedding_dim, input_length=max_length),\n",
        "    tf.keras.layers.Bidirectional(LSTM(8, return_sequences=True)),\n",
        "    tf.keras.layers.GlobalAveragePooling1D(),\n",
        "    tf.keras.layers.Dense(24, activation='relu'),\n",
        "    tf.keras.layers.Dense(28 , activation='sigmoid')  # change its shape to the maximum output label.\n",
        "])\n",
        "\n",
        "model.compile(loss='binary_crossentropy',optimizer='adam',metrics=[tf.keras.metrics.AUC()])\n",
        "\n",
        "#model.summary()"
      ]
    },
    {
      "cell_type": "markdown",
      "source": [
        "loss='categorical_crossentropy' : auc_2: 0.5032 "
      ],
      "metadata": {
        "id": "8A9Jdcty7N_K"
      }
    },
    {
      "cell_type": "code",
      "execution_count": null,
      "metadata": {
        "id": "iQcG5SM_gqXw"
      },
      "outputs": [],
      "source": [
        "# keras.utils.plot_model(model, \"27 sentiments analysis.png\", show_shapes=True)"
      ]
    },
    {
      "cell_type": "code",
      "execution_count": null,
      "metadata": {
        "id": "Qc7ohyia-xtQ"
      },
      "outputs": [],
      "source": [
        "from keras.callbacks import LearningRateScheduler\n",
        "\n",
        "# # we add learning rate scheduler to change because we are on a plateau\n",
        "# # for that we add it in callback\n",
        "\n",
        "# callbacks = [\n",
        "#     ReduceLROnPlateau(), # monitors a quantity and if no improvement is seen for a 'patience' number of epochs, the learning rate is reduced\n",
        "#     ModelCheckpoint(filepath='model_sparse', save_best_only=True)\n",
        "# ]\n",
        "\n",
        "##############################\n",
        "def lr_scheduler(epoch, lr):\n",
        "    decay_rate = 0.1\n",
        "    decay_step = 90\n",
        "    if epoch % decay_step == 0 and epoch:\n",
        "        return lr * decay_rate\n",
        "    return lr\n",
        "callbacks = [\n",
        "    keras.callbacks.LearningRateScheduler(lr_scheduler, verbose=1)\n",
        "]\n",
        "################################\n",
        "#callbacks = keras.callbacks.ModelCheckpoint(\"model_sparse.h5\", save_best_only=True)\n",
        "\n"
      ]
    },
    {
      "cell_type": "code",
      "execution_count": null,
      "metadata": {
        "colab": {
          "base_uri": "https://localhost:8080/"
        },
        "id": "a1EORqPZgsDX",
        "outputId": "d2d7fbe0-1de8-4ce7-a6a2-268227cc74bd"
      },
      "outputs": [
        {
          "output_type": "stream",
          "name": "stdout",
          "text": [
            "Epoch 1/10\n",
            "6250/6250 - 60s - loss: 0.1570 - auc_3: 0.7611 - val_loss: 0.1443 - val_auc_3: 0.8015 - 60s/epoch - 10ms/step\n",
            "Epoch 2/10\n",
            "6250/6250 - 57s - loss: 0.1412 - auc_3: 0.8171 - val_loss: 0.1377 - val_auc_3: 0.8289 - 57s/epoch - 9ms/step\n",
            "Epoch 3/10\n",
            "6250/6250 - 57s - loss: 0.1340 - auc_3: 0.8440 - val_loss: 0.1341 - val_auc_3: 0.8404 - 57s/epoch - 9ms/step\n",
            "Epoch 4/10\n",
            "6250/6250 - 56s - loss: 0.1293 - auc_3: 0.8585 - val_loss: 0.1312 - val_auc_3: 0.8519 - 56s/epoch - 9ms/step\n",
            "Epoch 5/10\n",
            "6250/6250 - 56s - loss: 0.1244 - auc_3: 0.8729 - val_loss: 0.1288 - val_auc_3: 0.8596 - 56s/epoch - 9ms/step\n",
            "Epoch 6/10\n",
            "6250/6250 - 57s - loss: 0.1203 - auc_3: 0.8844 - val_loss: 0.1271 - val_auc_3: 0.8660 - 57s/epoch - 9ms/step\n",
            "Epoch 7/10\n",
            "6250/6250 - 56s - loss: 0.1172 - auc_3: 0.8923 - val_loss: 0.1267 - val_auc_3: 0.8672 - 56s/epoch - 9ms/step\n",
            "Epoch 8/10\n",
            "6250/6250 - 56s - loss: 0.1149 - auc_3: 0.8982 - val_loss: 0.1261 - val_auc_3: 0.8700 - 56s/epoch - 9ms/step\n",
            "Epoch 9/10\n",
            "6250/6250 - 56s - loss: 0.1129 - auc_3: 0.9032 - val_loss: 0.1262 - val_auc_3: 0.8702 - 56s/epoch - 9ms/step\n",
            "Epoch 10/10\n",
            "6250/6250 - 56s - loss: 0.1112 - auc_3: 0.9070 - val_loss: 0.1268 - val_auc_3: 0.8686 - 56s/epoch - 9ms/step\n"
          ]
        }
      ],
      "source": [
        "num_epochs = 10\n",
        "history = model.fit(training_padded, training_labels, epochs=num_epochs, validation_data=(testing_padded, testing_labels), verbose=2)"
      ]
    },
    {
      "cell_type": "code",
      "execution_count": null,
      "metadata": {
        "id": "5ZPEkGBi3Xys",
        "colab": {
          "base_uri": "https://localhost:8080/",
          "height": 541
        },
        "outputId": "a5363003-417b-408f-f54e-5eb43be52c3b"
      },
      "outputs": [
        {
          "output_type": "display_data",
          "data": {
            "text/plain": [
              "<Figure size 432x288 with 1 Axes>"
            ],
            "image/png": "[encoded data removed]"
          },
          "metadata": {
            "needs_background": "light"
          }
        },
        {
          "output_type": "display_data",
          "data": {
            "text/plain": [
              "<Figure size 432x288 with 1 Axes>"
            ],
            "image/png": "[encoded data removed]"
          },
          "metadata": {
            "needs_background": "light"
          }
        }
      ],
      "source": [
        "def plot_graphs(history, string):\n",
        "  plt.plot(history.history[string])\n",
        "  plt.plot(history.history['val_'+string])\n",
        "  plt.xlabel(\"Epochs\")\n",
        "  plt.ylabel(string)\n",
        "  plt.legend([string, 'val_'+string])\n",
        "  plt.show()\n",
        "  \n",
        "plot_graphs(history, \"auc_3\")\n",
        "plot_graphs(history, \"loss\")"
      ]
    },
    {
      "cell_type": "markdown",
      "metadata": {
        "id": "Q-Wi2qpdhZun"
      },
      "source": [
        "# MODEL 3"
      ]
    },
    {
      "cell_type": "code",
      "execution_count": null,
      "metadata": {
        "colab": {
          "base_uri": "https://localhost:8080/"
        },
        "id": "XO8EEZc5hcAA",
        "outputId": "b7a2e718-1f34-4165-e1de-36880bcd582f"
      },
      "outputs": [
        {
          "output_type": "stream",
          "name": "stdout",
          "text": [
            "Epoch 1/10\n",
            "6250/6250 - 26s - loss: 0.1321 - auc_4: 0.8532 - val_loss: 0.1205 - val_auc_4: 0.8874 - lr: 0.0010 - 26s/epoch - 4ms/step\n",
            "Epoch 2/10\n",
            "6250/6250 - 22s - loss: 0.1158 - auc_4: 0.9000 - val_loss: 0.1180 - val_auc_4: 0.8945 - lr: 0.0010 - 22s/epoch - 3ms/step\n",
            "Epoch 3/10\n",
            "6250/6250 - 22s - loss: 0.1105 - auc_4: 0.9134 - val_loss: 0.1177 - val_auc_4: 0.8955 - lr: 0.0010 - 22s/epoch - 3ms/step\n",
            "Epoch 4/10\n",
            "6250/6250 - 23s - loss: 0.1066 - auc_4: 0.9218 - val_loss: 0.1183 - val_auc_4: 0.8950 - lr: 0.0010 - 23s/epoch - 4ms/step\n",
            "Epoch 5/10\n",
            "6250/6250 - 21s - loss: 0.1037 - auc_4: 0.9284 - val_loss: 0.1199 - val_auc_4: 0.8922 - lr: 0.0010 - 21s/epoch - 3ms/step\n",
            "Epoch 6/10\n",
            "6250/6250 - 21s - loss: 0.1014 - auc_4: 0.9332 - val_loss: 0.1210 - val_auc_4: 0.8898 - lr: 0.0010 - 21s/epoch - 3ms/step\n",
            "Epoch 7/10\n",
            "6250/6250 - 21s - loss: 0.0995 - auc_4: 0.9370 - val_loss: 0.1226 - val_auc_4: 0.8881 - lr: 0.0010 - 21s/epoch - 3ms/step\n",
            "Epoch 8/10\n",
            "6250/6250 - 21s - loss: 0.0980 - auc_4: 0.9402 - val_loss: 0.1238 - val_auc_4: 0.8845 - lr: 0.0010 - 21s/epoch - 3ms/step\n",
            "Epoch 9/10\n",
            "6250/6250 - 20s - loss: 0.0967 - auc_4: 0.9428 - val_loss: 0.1256 - val_auc_4: 0.8813 - lr: 0.0010 - 20s/epoch - 3ms/step\n",
            "Epoch 10/10\n",
            "6250/6250 - 21s - loss: 0.0956 - auc_4: 0.9450 - val_loss: 0.1261 - val_auc_4: 0.8824 - lr: 0.0010 - 21s/epoch - 3ms/step\n"
          ]
        }
      ],
      "source": [
        "#  Here the length refers to the number of rows of the filter, \n",
        "# here it is the dimension of the entire word embedding or the entire character representation\n",
        "filter_length = 300\n",
        "\n",
        "\n",
        "model = tf.keras.Sequential()\n",
        "model.add(Embedding(vocab_size, 20, input_length=max_length))\n",
        "#model.add(Dropout(0.5))\n",
        "model.add(Conv1D(filter_length, 3, padding='valid', activation='relu', strides=1))\n",
        "model.add(GlobalMaxPool1D())\n",
        "model.add(Dense(training_labels.shape[1]))\n",
        "model.add(Activation('sigmoid'))\n",
        "\n",
        "#model.compile(loss='binary_crossentropy',optimizer='adam',metrics=['accuracy'])\n",
        "\n",
        "model.compile(optimizer='adam', loss='binary_crossentropy', metrics=[tf.keras.metrics.AUC()]) # pas de multi_label =True car < accuracy\n",
        "\n",
        "callbacks = [\n",
        "    ReduceLROnPlateau(),\n",
        "    ModelCheckpoint(filepath='model-conv1d.h5', save_best_only=True)\n",
        "]\n",
        "\n",
        "\n",
        "num_epochs= 10\n",
        "history = model.fit(training_padded, training_labels, \n",
        "                    epochs=num_epochs, callbacks=callbacks, validation_data=(testing_padded, testing_labels), verbose=2)"
      ]
    },
    {
      "cell_type": "code",
      "execution_count": null,
      "metadata": {
        "colab": {
          "base_uri": "https://localhost:8080/",
          "height": 541
        },
        "id": "bkLoA09tqbfl",
        "outputId": "4fecc10c-2ce5-41d0-8220-47e155fd187d"
      },
      "outputs": [
        {
          "output_type": "display_data",
          "data": {
            "text/plain": [
              "<Figure size 432x288 with 1 Axes>"
            ],
            "image/png": "[encoded data removed]"
          },
          "metadata": {
            "needs_background": "light"
          }
        },
        {
          "output_type": "display_data",
          "data": {
            "text/plain": [
              "<Figure size 432x288 with 1 Axes>"
            ],
            "image/png": "[encoded data removed]"
          },
          "metadata": {
            "needs_background": "light"
          }
        }
      ],
      "source": [
        "import matplotlib.pyplot as plt\n",
        "\n",
        "def plot_graphs(history, string):\n",
        "  plt.plot(history.history[string])\n",
        "  plt.plot(history.history['val_'+string])\n",
        "  plt.xlabel(\"Epochs\")\n",
        "  plt.ylabel(string)\n",
        "  plt.legend([string, 'val_'+string])\n",
        "  plt.show()\n",
        "  \n",
        "plot_graphs(history, \"auc_4\")\n",
        "plot_graphs(history, \"loss\")"
      ]
    },
    {
      "cell_type": "markdown",
      "metadata": {
        "id": "BlcoZbl0ugFp"
      },
      "source": [
        "# MODEL 3 \n",
        "# sans callback \n",
        "# avec dropout"
      ]
    },
    {
      "cell_type": "markdown",
      "metadata": {
        "id": "0IEvnoUy5sS1"
      },
      "source": [
        "https://stackabuse.com/python-for-nlp-multi-label-text-classification-with-keras/\n",
        "\n",
        "\n",
        "https://www.kaggle.com/code/bansodesandeep/multilabel-cuisine-classification-cnn-dnn-lstm"
      ]
    },
    {
      "cell_type": "code",
      "execution_count": null,
      "metadata": {
        "colab": {
          "base_uri": "https://localhost:8080/"
        },
        "id": "28soc3hqqaIb",
        "outputId": "df860f0e-12b3-4ce7-d4b3-926a5d191e2f"
      },
      "outputs": [
        {
          "output_type": "stream",
          "name": "stdout",
          "text": [
            "Epoch 1/10\n",
            "6250/6250 - 25s - loss: 0.1407 - auc_7: 0.7028 - val_loss: 0.1479 - val_auc_7: 0.7979 - 25s/epoch - 4ms/step\n",
            "Epoch 2/10\n",
            "6250/6250 - 23s - loss: 0.1284 - auc_7: 0.7878 - val_loss: 0.1603 - val_auc_7: 0.8156 - 23s/epoch - 4ms/step\n",
            "Epoch 3/10\n",
            "6250/6250 - 24s - loss: 0.1252 - auc_7: 0.8070 - val_loss: 0.1807 - val_auc_7: 0.8127 - 24s/epoch - 4ms/step\n",
            "Epoch 4/10\n",
            "6250/6250 - 26s - loss: 0.1231 - auc_7: 0.8166 - val_loss: 0.1927 - val_auc_7: 0.8164 - 26s/epoch - 4ms/step\n",
            "Epoch 5/10\n",
            "6250/6250 - 23s - loss: 0.1216 - auc_7: 0.8246 - val_loss: 0.2038 - val_auc_7: 0.8174 - 23s/epoch - 4ms/step\n",
            "Epoch 6/10\n",
            "6250/6250 - 24s - loss: 0.1202 - auc_7: 0.8295 - val_loss: 0.2154 - val_auc_7: 0.8221 - 24s/epoch - 4ms/step\n",
            "Epoch 7/10\n",
            "6250/6250 - 23s - loss: 0.1193 - auc_7: 0.8339 - val_loss: 0.2172 - val_auc_7: 0.8260 - 23s/epoch - 4ms/step\n",
            "Epoch 8/10\n",
            "6250/6250 - 23s - loss: 0.1182 - auc_7: 0.8388 - val_loss: 0.2206 - val_auc_7: 0.8252 - 23s/epoch - 4ms/step\n",
            "Epoch 9/10\n",
            "6250/6250 - 23s - loss: 0.1176 - auc_7: 0.8413 - val_loss: 0.2287 - val_auc_7: 0.8310 - 23s/epoch - 4ms/step\n",
            "Epoch 10/10\n",
            "6250/6250 - 23s - loss: 0.1169 - auc_7: 0.8444 - val_loss: 0.2413 - val_auc_7: 0.8362 - 23s/epoch - 4ms/step\n"
          ]
        }
      ],
      "source": [
        "#  Here the length refers to the number of rows of the filter, \n",
        "# here it is the dimension of the entire word embedding or the entire character representation\n",
        "filter_length = 300\n",
        "\n",
        "\n",
        "model = tf.keras.Sequential()\n",
        "model.add(Embedding(vocab_size, 20, input_length=max_length))\n",
        "model.add(Dropout(0.5))\n",
        "model.add(Conv1D(filter_length, 3, padding='valid', activation='relu', strides=1))\n",
        "model.add(GlobalMaxPool1D())\n",
        "model.add(Dense(training_labels.shape[1]))\n",
        "model.add(Activation('sigmoid'))\n",
        "\n",
        "model.compile(optimizer='adam', loss='binary_crossentropy', metrics=[tf.keras.metrics.AUC(multi_label=True)])\n",
        "\n",
        "callbacks = [\n",
        "    ReduceLROnPlateau(),\n",
        "    ModelCheckpoint(filepath='model-conv1d.h5', save_best_only=True)\n",
        "]\n",
        "\n",
        "\n",
        "num_epochs= 10\n",
        "history = model.fit(training_padded, training_labels, \n",
        "                    epochs=num_epochs, validation_data=(testing_padded, testing_labels), verbose=2)"
      ]
    },
    {
      "cell_type": "code",
      "execution_count": null,
      "metadata": {
        "colab": {
          "base_uri": "https://localhost:8080/",
          "height": 541
        },
        "id": "Oc6YcGc5qhFu",
        "outputId": "4aba5752-89e2-42db-fb7a-fb381952cdb7"
      },
      "outputs": [
        {
          "output_type": "display_data",
          "data": {
            "text/plain": [
              "<Figure size 432x288 with 1 Axes>"
            ],
            "image/png": "[encoded data removed]"
          },
          "metadata": {
            "needs_background": "light"
          }
        },
        {
          "output_type": "display_data",
          "data": {
            "text/plain": [
              "<Figure size 432x288 with 1 Axes>"
            ],
            "image/png": "[encoded data removed]"
          },
          "metadata": {
            "needs_background": "light"
          }
        }
      ],
      "source": [
        "import matplotlib.pyplot as plt\n",
        "\n",
        "def plot_graphs(history, string):\n",
        "  plt.plot(history.history[string])\n",
        "  plt.plot(history.history['val_'+string])\n",
        "  plt.xlabel(\"Epochs\")\n",
        "  plt.ylabel(string)\n",
        "  plt.legend([string, 'val_'+string])\n",
        "  plt.show()\n",
        "  \n",
        "plot_graphs(history, \"auc_7\")\n",
        "plot_graphs(history, \"loss\")"
      ]
    },
    {
      "cell_type": "markdown",
      "source": [
        "# MODEL 3 \n",
        "# sans callback \n",
        "# avec dropout\n",
        "# sans filter length, kernel size null"
      ],
      "metadata": {
        "id": "3Hhu1aMhDYXQ"
      }
    },
    {
      "cell_type": "code",
      "source": [
        "#  Here the length refers to the number of rows of the filter, \n",
        "# here it is the dimension of the entire word embedding or the entire character representation\n",
        "filter_length = 100\n",
        "\n",
        "\n",
        "model = tf.keras.Sequential()\n",
        "model.add(Embedding(vocab_size, 20, input_length=max_length))\n",
        "model.add(Dropout(0.5))\n",
        "model.add(Conv1D(filter_length, 3, padding='valid', activation='relu', strides=1))\n",
        "model.add(GlobalMaxPool1D())\n",
        "model.add(Dense(training_labels.shape[1]))\n",
        "model.add(Activation('sigmoid'))\n",
        "\n",
        "model.compile(optimizer='adam', loss='binary_crossentropy', metrics=[tf.keras.metrics.AUC(multi_label=True)])\n",
        "\n",
        "callbacks = [\n",
        "    ReduceLROnPlateau(),\n",
        "    ModelCheckpoint(filepath='model-conv1d.h5', save_best_only=True)\n",
        "]\n",
        "\n",
        "\n",
        "num_epochs= 10\n",
        "history = model.fit(training_padded, training_labels, \n",
        "                    epochs=num_epochs, validation_data=(testing_padded, testing_labels), verbose=2)"
      ],
      "metadata": {
        "colab": {
          "base_uri": "https://localhost:8080/"
        },
        "id": "5pLfZjzdDZGN",
        "outputId": "0a2f883f-23e8-45f2-b57b-3c0573aec48a"
      },
      "execution_count": null,
      "outputs": [
        {
          "output_type": "stream",
          "name": "stdout",
          "text": [
            "Epoch 1/10\n",
            "6250/6250 - 26s - loss: 0.1445 - auc_10: 0.6742 - val_loss: 0.1519 - val_auc_10: 0.7753 - 26s/epoch - 4ms/step\n",
            "Epoch 2/10\n",
            "6250/6250 - 23s - loss: 0.1314 - auc_10: 0.7669 - val_loss: 0.1537 - val_auc_10: 0.8055 - 23s/epoch - 4ms/step\n",
            "Epoch 3/10\n",
            "6250/6250 - 24s - loss: 0.1278 - auc_10: 0.7920 - val_loss: 0.1585 - val_auc_10: 0.8093 - 24s/epoch - 4ms/step\n",
            "Epoch 4/10\n",
            "6250/6250 - 23s - loss: 0.1254 - auc_10: 0.8050 - val_loss: 0.1699 - val_auc_10: 0.8068 - 23s/epoch - 4ms/step\n",
            "Epoch 5/10\n",
            "6250/6250 - 23s - loss: 0.1238 - auc_10: 0.8126 - val_loss: 0.1812 - val_auc_10: 0.8006 - 23s/epoch - 4ms/step\n",
            "Epoch 6/10\n",
            "6250/6250 - 23s - loss: 0.1224 - auc_10: 0.8200 - val_loss: 0.1959 - val_auc_10: 0.8048 - 23s/epoch - 4ms/step\n",
            "Epoch 7/10\n",
            "6250/6250 - 23s - loss: 0.1213 - auc_10: 0.8243 - val_loss: 0.2129 - val_auc_10: 0.8027 - 23s/epoch - 4ms/step\n",
            "Epoch 8/10\n",
            "6250/6250 - 23s - loss: 0.1205 - auc_10: 0.8279 - val_loss: 0.2172 - val_auc_10: 0.8026 - 23s/epoch - 4ms/step\n",
            "Epoch 9/10\n",
            "6250/6250 - 23s - loss: 0.1197 - auc_10: 0.8313 - val_loss: 0.2312 - val_auc_10: 0.7978 - 23s/epoch - 4ms/step\n",
            "Epoch 10/10\n",
            "6250/6250 - 23s - loss: 0.1190 - auc_10: 0.8340 - val_loss: 0.2364 - val_auc_10: 0.8024 - 23s/epoch - 4ms/step\n"
          ]
        }
      ]
    },
    {
      "cell_type": "code",
      "source": [
        "import matplotlib.pyplot as plt\n",
        "\n",
        "def plot_graphs(history, string):\n",
        "  plt.plot(history.history[string])\n",
        "  plt.plot(history.history['val_'+string])\n",
        "  plt.xlabel(\"Epochs\")\n",
        "  plt.ylabel(string)\n",
        "  plt.legend([string, 'val_'+string])\n",
        "  plt.show()\n",
        "  \n",
        "plot_graphs(history, \"auc_10\")\n",
        "plot_graphs(history, \"loss\")"
      ],
      "metadata": {
        "colab": {
          "base_uri": "https://localhost:8080/",
          "height": 543
        },
        "id": "wwWKT-VsDit3",
        "outputId": "13a3938b-5f83-448f-a781-992d04c671c9"
      },
      "execution_count": null,
      "outputs": [
        {
          "output_type": "display_data",
          "data": {
            "text/plain": [
              "<Figure size 432x288 with 1 Axes>"
            ],
            "image/png": "[encoded data removed]"
          },
          "metadata": {
            "needs_background": "light"
          }
        },
        {
          "output_type": "display_data",
          "data": {
            "text/plain": [
              "<Figure size 432x288 with 1 Axes>"
            ],
            "image/png": "[encoded data removed]"
          },
          "metadata": {
            "needs_background": "light"
          }
        }
      ]
    }
  ],
  "metadata": {
    "accelerator": "GPU",
    "colab": {
      "provenance": []
    },
    "gpuClass": "standard",
    "kernelspec": {
      "display_name": "Python 3 (ipykernel)",
      "language": "python",
      "name": "python3"
    },
    "language_info": {
      "codemirror_mode": {
        "name": "ipython",
        "version": 3
      },
      "file_extension": ".py",
      "mimetype": "text/x-python",
      "name": "python",
      "nbconvert_exporter": "python",
      "pygments_lexer": "ipython3",
      "version": "3.9.7"
    }
  },
  "nbformat": 4,
  "nbformat_minor": 0
}